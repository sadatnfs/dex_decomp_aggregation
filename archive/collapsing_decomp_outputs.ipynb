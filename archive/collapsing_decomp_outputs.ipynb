{
 "cells": [
  {
   "cell_type": "markdown",
   "metadata": {},
   "source": [
    "## Purpose:\n",
    "\n",
    "### Merge in draws from the parallelized decomp analysis, create a multidimensional array and spit out whatever is needed with respect to that array\n",
    "\n",
    "### Created by : Nafis Sadat (04/13/2017)"
   ]
  },
  {
   "cell_type": "code",
   "execution_count": 1,
   "metadata": {
    "collapsed": false,
    "scrolled": false
   },
   "outputs": [
    {
     "name": "stderr",
     "output_type": "stream",
     "text": [
      "Loading required package: doParallel\n",
      "Loading required package: foreach\n",
      "Loading required package: iterators\n",
      "Loading required package: parallel\n",
      "Loading required package: foreign\n",
      "Loading required package: readstata13\n",
      "Loading required package: abind\n",
      "Loading required package: rlist\n",
      "Loading required package: data.table\n",
      "Loading required package: feather\n"
     ]
    }
   ],
   "source": [
    "## Bring in library\n",
    "# rm(list=ls())\n",
    "\n",
    "## Parallel environment\n",
    "require(doParallel)\n",
    "\n",
    "require(foreign)\n",
    "require(readstata13)\n",
    "require(abind)\n",
    "require(rlist)\n",
    "require(data.table)\n",
    "\n",
    "require(parallel)\n",
    "require(feather)"
   ]
  },
  {
   "cell_type": "code",
   "execution_count": 2,
   "metadata": {
    "collapsed": false
   },
   "outputs": [],
   "source": [
    "## Create metadata for one\n",
    "\n",
    "x = 0\n",
    "d1<-data.table(read.dta13(paste0(\"/ihme/dex/usa/10_resources/13_other/data/output/compiled_results_\",x,\".dta\")))\n",
    "d1 <- d1[, draw:= x]\n",
    "\n",
    "d2 <- melt(d1, id.vars = c(\"function\", \"acause\", \"sex\", \"age\", \"draw\"), value.name = \"data\")\n",
    "colnames(d2) <- c(\"fn\", \"acause\", \"sex\", \"age\", \"draw\", \"variable\", \"data\")\n",
    "# head(d2)\n",
    "\n",
    "## Encode to numerics\n",
    "varnames <- unique(d2[, .(fn, acause, variable)])\n",
    "varnames <-varnames[, fn_num := as.integer(as.factor(fn))]\n",
    "varnames <-varnames[, ac_num := as.integer(as.factor(acause))]\n",
    "varnames <-varnames[, var_num := as.integer(as.factor(variable))]\n",
    "# head(varnames)\n",
    "\n",
    "### A version with no variable name\n",
    "varnames_2 <- unique(varnames[, .(fn, fn_num, acause, ac_num)])\n",
    "rm(d1)\n",
    "rm(d2)"
   ]
  },
  {
   "cell_type": "code",
   "execution_count": null,
   "metadata": {
    "collapsed": false,
    "scrolled": true
   },
   "outputs": [],
   "source": [
    "# ## Try to bring in data on parallel\n",
    "# acomb <- function(...) abind(..., along=6)\n",
    "    \n",
    "# system.time(test<-  foreach(x=0:999,  .export=c(\"varnames_2\"), .combine='rbind',\n",
    "#                             .packages = c(\"data.table\", \"readstata13\", \"foreign\")) %do% {\n",
    "    \n",
    "#     ## Bring in data\n",
    "#     tmp<- data.table(read.dta13(paste0(\"/ihme/dex/usa/10_resources/13_other/data/output/compiled_results_\", x, \".dta\")))[,draw:=x]\n",
    "    \n",
    "#     ## Int to save space\n",
    "#     tmp <- tmp[, age:= as.integer(age)]\n",
    "#     tmp <- tmp[, sex:= as.integer(sex)]\n",
    "    \n",
    "#     ## Rename out function because function\n",
    "#     colnames(tmp)[4] <- \"fn\"\n",
    "    \n",
    "#     ## Bring draw up front\n",
    "#     setcolorder(tmp, c(\"draw\", colnames(tmp)[1:dim(tmp)[2]-1]))\n",
    "    \n",
    "\n",
    "#     ## Convert to matrix\n",
    "# #     tmp <- as.matrix(tmp)\n",
    "    \n",
    "#     ## Melt\n",
    "#     tmp <- melt(tmp, id.vars = c(\"fn\", \"acause\", \"draw\", \"age\", \"sex\"), value.name = \"data\", variable.name = \"variable\")\n",
    "    \n",
    "#     ## Merge in metadata\n",
    "#     tmp <- merge(varnames, tmp , by=c(\"fn\", \"acause\", \"variable\"))\n",
    "    \n",
    "    \n",
    "#     ## Drop crap\n",
    "#     tmp <- tmp[, fn:=NULL]\n",
    "#     tmp <- tmp[, acause:=NULL]\n",
    "#     tmp <- tmp[, variable:=NULL]\n",
    "    \n",
    "#     if(x %% 100 == 0) {\n",
    "#         print(paste0(\"Iteration: \", x, \", \", Sys.time()))\n",
    "#     }\n",
    "#     return(tmp)\n",
    "   \n",
    "#     ## Convert to an array\n",
    "# #     reshape2::acast(tmp, fn_num ~ ac_num ~ age ~ sex ~ var_num ~ draw , value.var=\"data\")\n",
    "\n",
    "#     }\n",
    "           \n",
    "# )\n",
    "\n"
   ]
  },
  {
   "cell_type": "code",
   "execution_count": null,
   "metadata": {
    "collapsed": false
   },
   "outputs": [],
   "source": [
    "## Is mclapply faster?\n",
    "system.time(test_mc <- mclapply(c(0:999), function(x) {\n",
    "    \n",
    "    ## Bring in data\n",
    "    tmp<- data.table(read.dta13(paste0(\"/ihme/dex/usa/10_resources/13_other/data/output/compiled_results_\", x, \".dta\")))\n",
    "    \n",
    "    ## Int to save space\n",
    "    tmp <- tmp[, age:= as.integer(age)]\n",
    "    tmp <- tmp[, sex:= as.integer(sex)]\n",
    "    \n",
    "    ## Rename out function because function\n",
    "    colnames(tmp)[4] <- \"fn\"\n",
    "    \n",
    "    ## Bring draw up front\n",
    "#     setcolorder(tmp, c(\"draw\", colnames(tmp)[1:dim(tmp)[2]-1]))\n",
    "    \n",
    "\n",
    "    ## Convert to matrix\n",
    "#     tmp <- as.matrix(tmp)\n",
    "    \n",
    "    ## Melt\n",
    "    tmp <- melt(tmp, id.vars = c(\"fn\", \"acause\", \"age\", \"sex\"), value.name = paste0(\"d_\",x), variable.name = \"variable\")\n",
    "    \n",
    "    ## Merge in metadata\n",
    "    tmp <- merge(varnames, tmp , by=c(\"fn\", \"acause\", \"variable\"), all.y=T)\n",
    "    \n",
    "    \n",
    "#     ## Drop crap\n",
    "    tmp <- tmp[, fn:=NULL]\n",
    "    tmp <- tmp[, acause:=NULL]\n",
    "    tmp <- tmp[, variable:=NULL]\n",
    "    \n",
    "    if(x %% 100 == 0 & x>0) {\n",
    "        print(paste0(\"Draw: \", x, \", \", Sys.time()))\n",
    "    }\n",
    "    return(tmp)\n",
    "   \n",
    "    ## Convert to an array\n",
    "#     reshape2::acast(tmp, fn_num ~ ac_num ~ age ~ sex ~ var_num ~ draw , value.var=\"data\")\n",
    "\n",
    "    },\n",
    "                                mc.cores=45, mc.preschedule=F))\n",
    "# system.time(test_mc <- list.stack(test_mc, data.table=T))"
   ]
  },
  {
   "cell_type": "code",
   "execution_count": null,
   "metadata": {
    "collapsed": false
   },
   "outputs": [],
   "source": [
    "system.time(test_mc_merged<-Reduce(function(x, y) merge(x, y, by=c(\"fn_num\", \"ac_num\", \"var_num\", \"age\", \"sex\"), all=T), test_mc))\n",
    "str(test_mc_merged)"
   ]
  },
  {
   "cell_type": "code",
   "execution_count": null,
   "metadata": {
    "collapsed": false
   },
   "outputs": [],
   "source": [
    "## Bring in output datas create them into encoded vars\n",
    "# system.time(all_outputs <- lapply(c(0:999), function(x){\n",
    "   \n",
    "#     tmp<- data.table(read.dta13(paste0(\"/ihme/dex/usa/10_resources/13_other/data/output/compiled_results_\", x, \".dta\")))\n",
    "#     tmp[, draw:= x]\n",
    "#     return(tmp)\n",
    "#     }\n",
    "#                                  )\n",
    "#            )\n",
    "\n",
    "# system.time(stacked_data <- list.stack(all_outputs, data.table = T))\n",
    "\n",
    "## save(list=\"stacked_data\", file = \"/ihme/dex/usa/10_resources/13_other/data/output/compiled_results_all_outputs.Rdata\")\n",
    "\n",
    "# Save memory\n",
    "# rm(all_outputs)\n",
    "\n",
    "## Alternatively, just load in the Rdata I made previously\n",
    "# system.time(load(\"/ihme/dex/usa/10_resources/13_other/data/output/compiled_results_all_outputs.Rdata\"))\n",
    "\n",
    "## Here's a melted version\n",
    "# system.time(load(\"/ihme/dex/usa/10_resources/13_other/data/output/compiled_results_super_long.Rdata\"))"
   ]
  },
  {
   "cell_type": "code",
   "execution_count": null,
   "metadata": {
    "collapsed": true
   },
   "outputs": [],
   "source": [
    "## Convert strings to numerics, and set a key\n",
    "mean_output_long <- merge(mean_output_long, varnames, by=c(\"fn\", \"acause\", \"variable\"))\n",
    "mean_output_long <- mean_output_long[, fn:=NULL]\n",
    "mean_output_long <- mean_output_long[, acause:=NULL]\n",
    "mean_output_long <- mean_output_long[, variable:=NULL]\n",
    "setkeyv(test, c(\"fn_num\", \"ac_num\", \"sex\",\"age\",\"var_num\",\"draw\"))"
   ]
  },
  {
   "cell_type": "code",
   "execution_count": null,
   "metadata": {
    "collapsed": true
   },
   "outputs": [],
   "source": [
    "## Set a key\n",
    "?setkey"
   ]
  },
  {
   "cell_type": "code",
   "execution_count": null,
   "metadata": {
    "collapsed": false,
    "scrolled": true
   },
   "outputs": [],
   "source": [
    "## Convert to array, parallelizing over draws\n",
    "\n",
    "#### Time it\n",
    "system.time(mean_output_array_parallel <- lapply(c(0:999), \n",
    "                                                   function(x) reshape2::acast(data = mean_output_long[draw==x],\n",
    "                           formula =  fn_num ~ ac_num ~ sex ~ age ~ var_num ~ draw, value.var=\"data\")))\n",
    "    \n",
    "    \n",
    "## Array bind across the draw dimension (draw dim = 6)\n",
    "mean_output_array_parallel_bind<-abind(mean_output_array_parallel, along = 6)\n",
    "                                                       \n",
    "# Check for discrepancy (there's be NAs because we don't have a perfectly rectangular dataset)\n",
    "str(mean_output_array_parallel_bind)    "
   ]
  },
  {
   "cell_type": "code",
   "execution_count": null,
   "metadata": {
    "collapsed": false
   },
   "outputs": [],
   "source": [
    "## We can collapse in any dimension we want \n",
    "## basically, apply the sum over the dimensions we want to keep\n",
    "## And remove the dimension we want summed over\n",
    "\n",
    "## e.g. c(2,3,4,5,6) means sum over the function dimension only and keep the rest intact\n",
    "\n",
    "## Let's sum up all the functions for e.g.\n",
    "mean_over_fn <- apply(mean_output_array_parallel_bind, c(2,3,4,5,6),  mean, na.rm=T)"
   ]
  },
  {
   "cell_type": "code",
   "execution_count": null,
   "metadata": {
    "collapsed": false
   },
   "outputs": [],
   "source": [
    "# Orig for debugging purposes\n",
    "# mean_output_array <- acast(data = mean_output_long,\n",
    "#                      formula =  fn ~ acause ~ sex ~ age ~ variable , value.var=\"data\")\n",
    "# str(mean_output_array)\n",
    "\n",
    "# mean_test <- apply(mean_output_array, c(2,3,4,5), mean, na.rm=T)"
   ]
  }
 ],
 "metadata": {
  "anaconda-cloud": {},
  "kernelspec": {
   "display_name": "R",
   "language": "R",
   "name": "ir"
  },
  "language_info": {
   "codemirror_mode": "r",
   "file_extension": ".r",
   "mimetype": "text/x-r-source",
   "name": "R",
   "pygments_lexer": "r",
   "version": "3.3.2"
  }
 },
 "nbformat": 4,
 "nbformat_minor": 1
}
