{
 "cells": [
  {
   "cell_type": "markdown",
   "metadata": {},
   "source": [
    "## Purpose:\n",
    "\n",
    "### Merge draws, but in Julia\n",
    "\n",
    "### Created by : Nafis Sadat (04/15/2017)"
   ]
  },
  {
   "cell_type": "code",
   "execution_count": 5,
   "metadata": {
    "collapsed": false
   },
   "outputs": [],
   "source": [
    "using DataFrames;\n",
    "df = readtable(\"/home/j/temp/sadatnfs/decomp_test.csv\");"
   ]
  },
  {
   "cell_type": "code",
   "execution_count": 4,
   "metadata": {
    "collapsed": false
   },
   "outputs": [
    {
     "data": {
      "text/html": [
       "<table class=\"data-frame\"><thead><tr><th></th><th>_function</th><th>acause</th><th>sex</th><th>age</th><th>variable</th><th>data</th></tr></thead><tbody><tr><th>1</th><td>AM</td><td>_ntd</td><td>male</td><td>5-9</td><td>epi_rate_effect_1011</td><td>0.0597511592386307</td></tr><tr><th>2</th><td>AM</td><td>_ntd</td><td>male</td><td>5-9</td><td>epi_rate_effect_1112</td><td>0.0652732255184726</td></tr><tr><th>3</th><td>AM</td><td>_ntd</td><td>male</td><td>5-9</td><td>epi_rate_effect_12</td><td>-0.0041004647431858</td></tr><tr><th>4</th><td>AM</td><td>_ntd</td><td>male</td><td>5-9</td><td>epi_rate_effect_1213</td><td>0.0737374484266686</td></tr><tr><th>5</th><td>AM</td><td>_ntd</td><td>male</td><td>5-9</td><td>epi_rate_effect_1314</td><td>0.0839040216740284</td></tr><tr><th>6</th><td>AM</td><td>_ntd</td><td>male</td><td>5-9</td><td>epi_rate_effect_1415</td><td>0.0992771044678777</td></tr></tbody></table>"
      ],
      "text/plain": [
       "6×6 DataFrames.DataFrame\n",
       "│ Row │ _function │ acause │ sex    │ age   │ variable               │\n",
       "├─────┼───────────┼────────┼────────┼───────┼────────────────────────┤\n",
       "│ 1   │ \"AM\"      │ \"_ntd\" │ \"male\" │ \"5-9\" │ \"epi_rate_effect_1011\" │\n",
       "│ 2   │ \"AM\"      │ \"_ntd\" │ \"male\" │ \"5-9\" │ \"epi_rate_effect_1112\" │\n",
       "│ 3   │ \"AM\"      │ \"_ntd\" │ \"male\" │ \"5-9\" │ \"epi_rate_effect_12\"   │\n",
       "│ 4   │ \"AM\"      │ \"_ntd\" │ \"male\" │ \"5-9\" │ \"epi_rate_effect_1213\" │\n",
       "│ 5   │ \"AM\"      │ \"_ntd\" │ \"male\" │ \"5-9\" │ \"epi_rate_effect_1314\" │\n",
       "│ 6   │ \"AM\"      │ \"_ntd\" │ \"male\" │ \"5-9\" │ \"epi_rate_effect_1415\" │\n",
       "\n",
       "│ Row │ data        │\n",
       "├─────┼─────────────┤\n",
       "│ 1   │ 0.0597512   │\n",
       "│ 2   │ 0.0652732   │\n",
       "│ 3   │ -0.00410046 │\n",
       "│ 4   │ 0.0737374   │\n",
       "│ 5   │ 0.083904    │\n",
       "│ 6   │ 0.0992771   │"
      ]
     },
     "execution_count": 4,
     "metadata": {},
     "output_type": "execute_result"
    }
   ],
   "source": [
    "head(df)"
   ]
  },
  {
   "cell_type": "code",
   "execution_count": 7,
   "metadata": {
    "collapsed": false
   },
   "outputs": [
    {
     "data": {
      "text/plain": [
       "1837381×6 Array{Any,2}:\n",
       " \"AM\"  \"_ntd\"      \"male\"    \"5-9\"    \"epi_rate_effect_1011\"    0.0597512  \n",
       " \"AM\"  \"_ntd\"      \"male\"    \"5-9\"    \"epi_rate_effect_1112\"    0.0652732  \n",
       " \"AM\"  \"_ntd\"      \"male\"    \"5-9\"    \"epi_rate_effect_12\"     -0.00410046 \n",
       " \"AM\"  \"_ntd\"      \"male\"    \"5-9\"    \"epi_rate_effect_1213\"    0.0737374  \n",
       " \"AM\"  \"_ntd\"      \"male\"    \"5-9\"    \"epi_rate_effect_1314\"    0.083904   \n",
       " \"AM\"  \"_ntd\"      \"male\"    \"5-9\"    \"epi_rate_effect_1415\"    0.0992771  \n",
       " \"AM\"  \"_ntd\"      \"male\"    \"5-9\"    \"epi_rate_effect_1516\"    0.335857   \n",
       " \"AM\"  \"_ntd\"      \"male\"    \"5-9\"    \"epi_rate_effect_1617\"    0.441431   \n",
       " \"AM\"  \"_ntd\"      \"male\"    \"5-9\"    \"epi_rate_effect_1718\"    0.617487   \n",
       " \"AM\"  \"_ntd\"      \"male\"    \"5-9\"    \"epi_rate_effect_23\"     -0.0030038  \n",
       " \"AM\"  \"_ntd\"      \"male\"    \"5-9\"    \"epi_rate_effect_34\"      0.0088124  \n",
       " \"AM\"  \"_ntd\"      \"male\"    \"5-9\"    \"epi_rate_effect_45\"      0.0220028  \n",
       " \"AM\"  \"_ntd\"      \"male\"    \"5-9\"    \"epi_rate_effect_56\"      0.0415674  \n",
       " ⋮                                                              ⋮          \n",
       " \"RX\"  \"whooping\"  \"female\"  \"55-59\"  \"util_rate_effect_1415\"   0.0060106  \n",
       " \"RX\"  \"whooping\"  \"female\"  \"55-59\"  \"util_rate_effect_1516\"   0.00639148 \n",
       " \"RX\"  \"whooping\"  \"female\"  \"55-59\"  \"util_rate_effect_1617\"   0.00422476 \n",
       " \"RX\"  \"whooping\"  \"female\"  \"55-59\"  \"util_rate_effect_1718\"   0.00279428 \n",
       " \"RX\"  \"whooping\"  \"female\"  \"55-59\"  \"util_rate_effect_23\"     0.00154604 \n",
       " \"RX\"  \"whooping\"  \"female\"  \"55-59\"  \"util_rate_effect_34\"     0.000511202\n",
       " \"RX\"  \"whooping\"  \"female\"  \"55-59\"  \"util_rate_effect_45\"     0.00102641 \n",
       " \"RX\"  \"whooping\"  \"female\"  \"55-59\"  \"util_rate_effect_56\"     0.00200576 \n",
       " \"RX\"  \"whooping\"  \"female\"  \"55-59\"  \"util_rate_effect_67\"     0.00195849 \n",
       " \"RX\"  \"whooping\"  \"female\"  \"55-59\"  \"util_rate_effect_78\"     0.0046041  \n",
       " \"RX\"  \"whooping\"  \"female\"  \"55-59\"  \"util_rate_effect_89\"     0.000188974\n",
       " \"RX\"  \"whooping\"  \"female\"  \"55-59\"  \"util_rate_effect_910\"    0.000726895"
      ]
     },
     "execution_count": 7,
     "metadata": {},
     "output_type": "execute_result"
    }
   ],
   "source": [
    "df_array = convert(Array, df)"
   ]
  },
  {
   "cell_type": "code",
   "execution_count": 19,
   "metadata": {
    "collapsed": false
   },
   "outputs": [
    {
     "data": {
      "text/plain": [
       "1.5202196153302543"
      ]
     },
     "execution_count": 19,
     "metadata": {},
     "output_type": "execute_result"
    }
   ],
   "source": [
    "mean(df_array[:,6])"
   ]
  }
 ],
 "metadata": {
  "anaconda-cloud": {},
  "kernelspec": {
   "display_name": "Julia 0.5.1",
   "language": "julia",
   "name": "julia-0.5"
  },
  "language_info": {
   "file_extension": ".jl",
   "mimetype": "application/julia",
   "name": "julia",
   "version": "0.5.1"
  }
 },
 "nbformat": 4,
 "nbformat_minor": 1
}
